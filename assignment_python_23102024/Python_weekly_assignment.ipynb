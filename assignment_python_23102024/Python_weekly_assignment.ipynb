{
  "nbformat": 4,
  "nbformat_minor": 0,
  "metadata": {
    "colab": {
      "provenance": []
    },
    "kernelspec": {
      "name": "python3",
      "display_name": "Python 3"
    },
    "language_info": {
      "name": "python"
    }
  },
  "cells": [
    {
      "cell_type": "code",
      "execution_count": null,
      "metadata": {
        "colab": {
          "base_uri": "https://localhost:8080/"
        },
        "id": "nmmBbtm_beSO",
        "outputId": "3dabf1a0-2b76-4d22-a84a-6005fd2bfea2"
      },
      "outputs": [
        {
          "output_type": "stream",
          "name": "stdout",
          "text": [
            "Skipping invalid data: Sravya, abc\n",
            "Average score: 83.50\n",
            "\n",
            "Students who scored above average:\n",
            "\n",
            "Students who scored above average:\n",
            "Harshitha : 85.0\n",
            "Sindhu : 90.0\n",
            "Meghana : 95.0\n",
            "Vaishnavi : 88.0\n"
          ]
        }
      ],
      "source": [
        "import os\n",
        "\n",
        "def read_scores(filename):\n",
        "    students = []\n",
        "    try:\n",
        "        if not os.path.exists(filename):\n",
        "            raise FileNotFoundError(\"File\", filename, \"not found.\")\n",
        "\n",
        "        with open(filename, 'r') as file:\n",
        "            for line in file:\n",
        "                try:\n",
        "                    name, score = line.strip().split(',')\n",
        "                    score = float(score)\n",
        "                    students.append((name.strip(), score))\n",
        "                except ValueError:\n",
        "                    print(f\"Skipping invalid data: {line.strip()}\")\n",
        "    except FileNotFoundError as fnf_error:\n",
        "        print(fnf_error)\n",
        "    except Exception as e:\n",
        "        print(\"An error occurred:\", e)\n",
        "\n",
        "    return students\n",
        "\n",
        "def calculate_average(students):\n",
        "    if not students:\n",
        "        print(\"No valid student data available to calculate average.\")\n",
        "        return 0\n",
        "\n",
        "    total_score = sum(score for _, score in students)\n",
        "    average_score = total_score / len(students)\n",
        "    return average_score\n",
        "\n",
        "def students_above_average(students, average_score):\n",
        "    return [(name, score) for name, score in students if score > average_score]\n",
        "\n",
        "filename = \"/content/sample_data/scores.txt\"\n",
        "students = read_scores(filename)\n",
        "\n",
        "if students:\n",
        "    average_score = calculate_average(students)\n",
        "\n",
        "    if average_score > 0:\n",
        "        print(f\"Average score: {average_score:.2f}\")\n",
        "        above_average_students = students_above_average(students, average_score)\n",
        "\n",
        "        if above_average_students:\n",
        "            print(\"\\nStudents who scored above average:\")\n",
        "            above_average_students = students_above_average(students, average_score)\n",
        "\n",
        "        if above_average_students:\n",
        "            print(\"\\nStudents who scored above average:\")\n",
        "            for name, score in above_average_students:\n",
        "                print(name,\":\", score)\n",
        "        else:\n",
        "            print(\"No students scored above average.\")\n",
        "else:\n",
        "    print(\"No valid student data found.\")"
      ]
    },
    {
      "cell_type": "code",
      "source": [
        "def clean_product_list(product_ids):\n",
        "    return sorted(set(product_ids))\n",
        "\n",
        "product_ids = [\"P1\", \"P2\", \"P3\", \"P2\", \"P4\", \"P1\", \"P5\"]\n",
        "\n",
        "cleaned_list = clean_product_list(product_ids)\n",
        "print(cleaned_list)"
      ],
      "metadata": {
        "id": "4pD_Un9ie0C-",
        "colab": {
          "base_uri": "https://localhost:8080/"
        },
        "outputId": "b108f2f5-e3a7-4b6e-ca19-c9bb1f1cadc4"
      },
      "execution_count": null,
      "outputs": [
        {
          "output_type": "stream",
          "name": "stdout",
          "text": [
            "['P1', 'P2', 'P3', 'P4', 'P5']\n"
          ]
        }
      ]
    },
    {
      "cell_type": "code",
      "source": [
        "def update_sales_data(sales):\n",
        "    sales_dict = {}\n",
        "    for customer, amount in sales:\n",
        "        if customer in sales_dict:\n",
        "            sales_dict[customer] += amount\n",
        "        else:\n",
        "            sales_dict[customer] = amount\n",
        "    return dict(sorted(sales_dict.items()))\n",
        "\n",
        "sales = [('Meghana', 200), ('Neha', 150), ('Kavya', 100), ('Sindhu', 300), ('Shriya', 50)]\n",
        "\n",
        "updated_sales = update_sales_data(sales)\n",
        "print(updated_sales)"
      ],
      "metadata": {
        "colab": {
          "base_uri": "https://localhost:8080/"
        },
        "id": "ERKaaypgfsEK",
        "outputId": "d46af86f-1267-48f7-8865-ece4a5ef17b9"
      },
      "execution_count": null,
      "outputs": [
        {
          "output_type": "stream",
          "name": "stdout",
          "text": [
            "{'Kavya': 100, 'Meghana': 200, 'Neha': 150, 'Shriya': 50, 'Sindhu': 300}\n"
          ]
        }
      ]
    },
    {
      "cell_type": "code",
      "source": [
        "import pickle\n",
        "import os\n",
        "\n",
        "def save_preferences(filename, preferences):\n",
        "    with open(filename, 'wb') as file:\n",
        "        pickle.dump(preferences, file)\n",
        "\n",
        "def load_preferences(filename):\n",
        "    try:\n",
        "        if os.path.exists(filename):\n",
        "            with open(filename, 'rb') as file:\n",
        "                return pickle.load(file)\n",
        "        else:\n",
        "            raise FileNotFoundError(f\"Preferences file '{filename}' not found.\")\n",
        "    except (FileNotFoundError, pickle.UnpicklingError) as e:\n",
        "        print(e)\n",
        "        return {}\n",
        "\n",
        "user_preferences = {\n",
        "    'theme': 'dark',\n",
        "    'language': 'English',\n",
        "    'notifications': True\n",
        "}\n",
        "\n",
        "filename = 'preferences.pkl'\n",
        "save_preferences(filename, user_preferences)\n",
        "\n",
        "loaded_preferences = load_preferences(filename)\n",
        "print(loaded_preferences)\n"
      ],
      "metadata": {
        "colab": {
          "base_uri": "https://localhost:8080/"
        },
        "id": "jvzE8BdqgRwx",
        "outputId": "42658d32-7ed5-49fd-cf79-5f2f108a582e"
      },
      "execution_count": null,
      "outputs": [
        {
          "output_type": "stream",
          "name": "stdout",
          "text": [
            "{'theme': 'dark', 'language': 'English', 'notifications': True}\n"
          ]
        }
      ]
    },
    {
      "cell_type": "code",
      "source": [
        "import pandas as pd\n",
        "\n",
        "def analyze_salaries(input_file, output_file):\n",
        "    try:\n",
        "        df = pd.read_csv(input_file)\n",
        "        if 'Department' not in df.columns or 'Salary' not in df.columns:\n",
        "            raise ValueError(\"Missing required columns in the data\")\n",
        "        result = df.groupby('Department')['Salary'].agg(['sum', 'mean']).reset_index()\n",
        "        result.columns = ['Department', 'Total Salary', 'Average Salary']\n",
        "        result.to_csv(output_file, index=False)\n",
        "    except FileNotFoundError:\n",
        "        print(f\"File '{input_file}' not found.\")\n",
        "    except pd.errors.EmptyDataError:\n",
        "        print(\"File is empty or corrupted.\")\n",
        "    except ValueError as e:\n",
        "        print(e)\n",
        "\n",
        "data = {\n",
        "    'Employee Name': ['John Doe', 'Jane Smith', 'Emily Davis', 'Michael Brown', 'Sarah Wilson'],\n",
        "    'Department': ['HR', 'IT', 'HR', 'IT', 'Marketing'],\n",
        "    'Salary': [60000, 80000, 65000, 75000, 50000]\n",
        "}\n",
        "\n",
        "df = pd.DataFrame(data)\n",
        "df.to_csv('employee_records.csv', index=False)\n",
        "\n",
        "analyze_salaries('employee_records.csv', 'salary_analysis.csv')\n"
      ],
      "metadata": {
        "id": "JmRH1ZkKhJLo"
      },
      "execution_count": null,
      "outputs": []
    },
    {
      "cell_type": "code",
      "source": [
        "import re\n",
        "\n",
        "def is_valid_email(email):\n",
        "    pattern = r'^[a-zA-Z0-9._%+-]+@[a-zA-Z0-9.-]+\\.[a-zA-Z]{2,}$'\n",
        "    return re.match(pattern, email) is not None\n",
        "\n",
        "def filter_valid_emails(email_list):\n",
        "    valid_emails = [email for email in email_list if is_valid_email(email)]\n",
        "    return valid_emails\n",
        "\n",
        "email_signups = [\n",
        "    'john.doe@example.com',\n",
        "    'jane.smith@company.org',\n",
        "    'invalid-email@.com',\n",
        "    'user@domain..com',\n",
        "    'username@domain.com',\n",
        "    '@missingusername.com',\n",
        "    'valid_email@domain.com',\n",
        "    'user@domain.c'\n",
        "]\n",
        "\n",
        "valid_emails = filter_valid_emails(email_signups)\n",
        "print(valid_emails)"
      ],
      "metadata": {
        "colab": {
          "base_uri": "https://localhost:8080/"
        },
        "id": "zulGacVijLCN",
        "outputId": "b5a9603a-c684-40a5-f21d-d5dd75507d73"
      },
      "execution_count": null,
      "outputs": [
        {
          "output_type": "stream",
          "name": "stdout",
          "text": [
            "['john.doe@example.com', 'jane.smith@company.org', 'user@domain..com', 'username@domain.com', 'valid_email@domain.com']\n"
          ]
        }
      ]
    },
    {
      "cell_type": "code",
      "source": [
        "def currency_conversion(amount, conversion_rate):\n",
        "    if conversion_rate == 0:\n",
        "        raise ValueError(\"Conversion rate cannot be zero.\")\n",
        "    return amount * conversion_rate\n",
        "\n",
        "def main():\n",
        "    try:\n",
        "        amount = float(input(\"Enter the amount to convert: \"))\n",
        "        conversion_rate = float(input(\"Enter the conversion rate: \"))\n",
        "\n",
        "        converted_amount = currency_conversion(amount, conversion_rate)\n",
        "        print(\"Converted amount:\", converted_amount)\n",
        "\n",
        "    except ValueError as e:\n",
        "        print(\"Error:\", e)\n",
        "    except Exception as e:\n",
        "        print(\"An unexpected error occurred:\", e)\n",
        "\n",
        "test_inputs = [\n",
        "    (100, 1.2),\n",
        "    (150, 0),\n",
        "    ('abc', 1.2),\n",
        "    (200, 'xyz'),\n",
        "]\n",
        "\n",
        "for amount, rate in test_inputs:\n",
        "    print(\"Testing with amount:\", amount, \", conversion rate:\", rate)\n",
        "    try:\n",
        "        result = currency_conversion(float(amount), float(rate))\n",
        "        print(\"Converted amount:\", result)\n",
        "    except ValueError as e:\n",
        "        print(\"Error:\", e)\n",
        "    except Exception as e:\n",
        "        print(\"An unexpected error occurred:\", e)"
      ],
      "metadata": {
        "colab": {
          "base_uri": "https://localhost:8080/"
        },
        "id": "y-2AN0XOjae9",
        "outputId": "b3dd9096-265d-4205-c58a-87f8b6af87e1"
      },
      "execution_count": null,
      "outputs": [
        {
          "output_type": "stream",
          "name": "stdout",
          "text": [
            "Testing with amount: 100 , conversion rate: 1.2\n",
            "Converted amount: 120.0\n",
            "Testing with amount: 150 , conversion rate: 0\n",
            "Error: Conversion rate cannot be zero.\n",
            "Testing with amount: abc , conversion rate: 1.2\n",
            "Error: could not convert string to float: 'abc'\n",
            "Testing with amount: 200 , conversion rate: xyz\n",
            "Error: could not convert string to float: 'xyz'\n"
          ]
        }
      ]
    },
    {
      "cell_type": "code",
      "source": [
        "def filter_good_ratings(ratings):\n",
        "    if not ratings:\n",
        "        return []\n",
        "    return [rating ** 2 for rating in ratings if rating >= 5]\n",
        "\n",
        "movie_ratings = [3, 5, 7, 2, 8, 10, 4]\n",
        "\n",
        "good_ratings_squared = filter_good_ratings(movie_ratings)\n",
        "print(\"Good ratings squared:\", good_ratings_squared)\n"
      ],
      "metadata": {
        "colab": {
          "base_uri": "https://localhost:8080/"
        },
        "id": "8P5rJEHGkEdQ",
        "outputId": "520632d8-b80d-48cb-dda4-eb7ac5ef6074"
      },
      "execution_count": null,
      "outputs": [
        {
          "output_type": "stream",
          "name": "stdout",
          "text": [
            "Good ratings squared: [25, 49, 64, 100]\n"
          ]
        }
      ]
    },
    {
      "cell_type": "code",
      "source": [
        "import re\n",
        "\n",
        "def extract_phone_numbers(filename):\n",
        "    phone_pattern = r'(\\(\\d{3}\\)\\s\\d{3}-\\d{4}|\\d{3}-\\d{3}-\\d{4})'\n",
        "    valid_numbers = []\n",
        "\n",
        "    try:\n",
        "        with open(filename, 'r') as file:\n",
        "            content = file.read()\n",
        "            valid_numbers = re.findall(phone_pattern, content)\n",
        "    except FileNotFoundError:\n",
        "        print(\"Error: The file does not exist.\")\n",
        "    except Exception as e:\n",
        "        print(\"An unexpected error occurred:\", e)\n",
        "\n",
        "    return valid_numbers\n",
        "\n",
        "valid_phone_numbers = extract_phone_numbers('/content/sample_data/client_data.txt')\n",
        "print(\"Valid phone numbers:\", valid_phone_numbers)\n"
      ],
      "metadata": {
        "colab": {
          "base_uri": "https://localhost:8080/"
        },
        "id": "l54wzc9dkHvH",
        "outputId": "dca222d9-6d85-472b-83a3-61d35f39f9f2"
      },
      "execution_count": null,
      "outputs": [
        {
          "output_type": "stream",
          "name": "stdout",
          "text": [
            "Valid phone numbers: ['(123) 456-7890', '234-567-8901', '(345) 678-9012', '567-123-4567']\n"
          ]
        }
      ]
    },
    {
      "cell_type": "code",
      "source": [
        "def remove_duplicates(customer_records):\n",
        "    unique_customers = set(customer_records)\n",
        "    return list(unique_customers)\n",
        "\n",
        "customer_records = [\n",
        "    ('John Doe', 'john@example.com'),\n",
        "    ('Jane Smith', 'jane@example.com'),\n",
        "    ('John Doe', 'john@example.com'),\n",
        "    ('Emily Davis', 'emily@example.com'),\n",
        "    ('Jane Smith', 'jane@example.com'),\n",
        "    ('Michael Brown', 'michael@example.com')\n",
        "]\n",
        "\n",
        "unique_customers = remove_duplicates(customer_records)\n",
        "print(\"Unique customers:\", unique_customers)\n"
      ],
      "metadata": {
        "colab": {
          "base_uri": "https://localhost:8080/"
        },
        "id": "ZACOfrY5lBSX",
        "outputId": "3126a507-73fe-465e-acdd-3ef1f590315a"
      },
      "execution_count": null,
      "outputs": [
        {
          "output_type": "stream",
          "name": "stdout",
          "text": [
            "Unique customers: [('John Doe', 'john@example.com'), ('Jane Smith', 'jane@example.com'), ('Michael Brown', 'michael@example.com'), ('Emily Davis', 'emily@example.com')]\n"
          ]
        }
      ]
    },
    {
      "cell_type": "code",
      "source": [
        "import pandas as pd\n",
        "\n",
        "def filter_low_stock_products(input_file):\n",
        "    try:\n",
        "        df = pd.read_csv(input_file)\n",
        "        if 'Product ID' not in df.columns or 'Name' not in df.columns or 'Quantity' not in df.columns:\n",
        "            raise ValueError(\"Missing required columns in the data.\")\n",
        "\n",
        "        low_stock = df[df['Quantity'] < 10]\n",
        "        return low_stock\n",
        "\n",
        "    except FileNotFoundError:\n",
        "        print(\"Error: The file does not exist.\")\n",
        "        return None\n",
        "    except pd.errors.EmptyDataError:\n",
        "        print(\"Error: The file is empty.\")\n",
        "        return None\n",
        "    except ValueError as e:\n",
        "        print(\"Error:\", e)\n",
        "        return None\n",
        "    except Exception as e:\n",
        "        print(\"An unexpected error occurred:\", e)\n",
        "        return None\n",
        "\n",
        "low_stock_products = filter_low_stock_products('/content/sample_data/product_inventory (1).csv')\n",
        "if low_stock_products is not None:\n",
        "    print(\"Low stock products:\")\n",
        "    print(low_stock_products)"
      ],
      "metadata": {
        "colab": {
          "base_uri": "https://localhost:8080/"
        },
        "id": "xmvxcCtcllDj",
        "outputId": "5dee267b-b29c-412d-ebf7-aa4a4560b7a2"
      },
      "execution_count": null,
      "outputs": [
        {
          "output_type": "stream",
          "name": "stdout",
          "text": [
            "Low stock products:\n",
            "   Product ID      Name  Quantity\n",
            "1         102  Widget B         5\n",
            "2         103  Widget C         8\n",
            "4         105  Widget E         3\n"
          ]
        }
      ]
    },
    {
      "cell_type": "code",
      "source": [
        "import numpy as np\n",
        "\n",
        "def analyze_player_performance(num_games):\n",
        "    player_scores = np.random.randint(0, 101, size=num_games)\n",
        "\n",
        "    mean_score = np.mean(player_scores)\n",
        "    median_score = np.median(player_scores)\n",
        "    variance_score = np.var(player_scores)\n",
        "    std_deviation_score = np.std(player_scores)\n",
        "\n",
        "    return player_scores, mean_score, median_score, variance_score, std_deviation_score\n",
        "\n",
        "num_games = 10\n",
        "\n",
        "player_scores, mean_score, median_score, variance_score, std_deviation_score = analyze_player_performance(num_games)\n",
        "\n",
        "print(\"Player Scores:\\n\", player_scores)\n",
        "print(\"\\nMean Score:\", mean_score)\n",
        "print(\"Median Score:\", median_score)\n",
        "print(\"Variance of Scores:\", variance_score)\n",
        "print(\"Standard Deviation of Scores:\", std_deviation_score)\n"
      ],
      "metadata": {
        "colab": {
          "base_uri": "https://localhost:8080/"
        },
        "id": "zL5Pc4Kjmm0F",
        "outputId": "1c12f64f-c784-4e7a-c244-7aefb5d69077"
      },
      "execution_count": null,
      "outputs": [
        {
          "output_type": "stream",
          "name": "stdout",
          "text": [
            "Player Scores:\n",
            " [39 97 37 66 53 96 32 56 87 22]\n",
            "\n",
            "Mean Score: 58.5\n",
            "Median Score: 54.5\n",
            "Variance of Scores: 667.05\n",
            "Standard Deviation of Scores: 25.82731112601542\n"
          ]
        }
      ]
    },
    {
      "cell_type": "code",
      "source": [
        "import pickle\n",
        "import os\n",
        "\n",
        "def save_tasks(tasks, filename):\n",
        "    with open(filename, 'wb') as file:\n",
        "        pickle.dump(tasks, file)\n",
        "\n",
        "def load_tasks(filename):\n",
        "    if not os.path.exists(filename):\n",
        "        print(\"Error: The data file does not exist.\")\n",
        "        return []\n",
        "\n",
        "    try:\n",
        "        with open(filename, 'rb') as file:\n",
        "            return pickle.load(file)\n",
        "    except (pickle.PickleError, EOFError):\n",
        "        print(\"Error: The data file is corrupted.\")\n",
        "        return []\n",
        "\n",
        "def main():\n",
        "    filename = 'todo_list.pkl'\n",
        "    tasks = load_tasks(filename)\n",
        "\n",
        "    while True:\n",
        "        print(\"\\nTo-Do List Manager\")\n",
        "        print(\"1. Add a task\")\n",
        "        print(\"2. View tasks\")\n",
        "        print(\"3. Save tasks\")\n",
        "        print(\"4. Exit\")\n",
        "        choice = input(\"Choose an option: \")\n",
        "\n",
        "        if choice == '1':\n",
        "            task = input(\"Enter a new task: \")\n",
        "            tasks.append(task)\n",
        "            print(\"Task added.\")\n",
        "        elif choice == '2':\n",
        "            if tasks:\n",
        "                print(\"Current tasks:\")\n",
        "                for idx, task in enumerate(tasks, start=1):\n",
        "                    print(f\"{idx}. {task}\")\n",
        "            else:\n",
        "                print(\"No tasks found.\")\n",
        "        elif choice == '3':\n",
        "            save_tasks(tasks, filename)\n",
        "            print(\"Tasks saved.\")\n",
        "        elif choice == '4':\n",
        "            break\n",
        "        else:\n",
        "            print(\"Invalid choice. Please try again.\")\n",
        "\n",
        "main()\n"
      ],
      "metadata": {
        "colab": {
          "base_uri": "https://localhost:8080/"
        },
        "id": "JpxWQeAxnM32",
        "outputId": "c94339e6-58c6-4381-bbbf-8ac5a5dce03d"
      },
      "execution_count": null,
      "outputs": [
        {
          "name": "stdout",
          "output_type": "stream",
          "text": [
            "Error: The data file does not exist.\n",
            "\n",
            "To-Do List Manager\n",
            "1. Add a task\n",
            "2. View tasks\n",
            "3. Save tasks\n",
            "4. Exit\n",
            "Choose an option: 1\n",
            "Enter a new task: Clean room\n",
            "Task added.\n",
            "\n",
            "To-Do List Manager\n",
            "1. Add a task\n",
            "2. View tasks\n",
            "3. Save tasks\n",
            "4. Exit\n",
            "Choose an option: 2\n",
            "Current tasks:\n",
            "1. Clean room\n",
            "\n",
            "To-Do List Manager\n",
            "1. Add a task\n",
            "2. View tasks\n",
            "3. Save tasks\n",
            "4. Exit\n",
            "Choose an option: 3\n",
            "Tasks saved.\n",
            "\n",
            "To-Do List Manager\n",
            "1. Add a task\n",
            "2. View tasks\n",
            "3. Save tasks\n",
            "4. Exit\n",
            "Choose an option: 4\n"
          ]
        }
      ]
    },
    {
      "cell_type": "code",
      "source": [
        "import re\n",
        "\n",
        "def extract_unique_hashtags(post):\n",
        "    hashtags = re.findall(r'#\\w+', post)\n",
        "    unique_hashtags = set(hashtags)\n",
        "    return sorted(unique_hashtags)\n",
        "\n",
        "# Sample post\n",
        "post = \"#Python3 #DataScience fun! #Python3 #coding #AI #100DaysOfCode\"\n",
        "\n",
        "# Extract and print unique hashtags\n",
        "unique_hashtags = extract_unique_hashtags(post)\n",
        "print(\"Unique hashtags:\", unique_hashtags)\n"
      ],
      "metadata": {
        "colab": {
          "base_uri": "https://localhost:8080/"
        },
        "id": "g1lwQwx8nznt",
        "outputId": "c8f0ed75-66de-41ce-da2f-54917ced122f"
      },
      "execution_count": null,
      "outputs": [
        {
          "output_type": "stream",
          "name": "stdout",
          "text": [
            "Unique hashtags: ['#100DaysOfCode', '#AI', '#DataScience', '#Python3', '#coding']\n"
          ]
        }
      ]
    }
  ]
}